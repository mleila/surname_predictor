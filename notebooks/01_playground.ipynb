{
 "cells": [
  {
   "cell_type": "code",
   "execution_count": 1,
   "metadata": {},
   "outputs": [],
   "source": [
    "%load_ext autoreload\n",
    "%autoreload 2"
   ]
  },
  {
   "cell_type": "code",
   "execution_count": 2,
   "metadata": {},
   "outputs": [],
   "source": [
    "from pathlib import Path\n",
    "\n",
    "import torch\n",
    "import pandas as pd\n",
    "import numpy as np\n",
    "\n",
    "from surnames.data import SurnameClassificationDataset, generate_batches"
   ]
  },
  {
   "cell_type": "code",
   "execution_count": 3,
   "metadata": {},
   "outputs": [],
   "source": [
    "# notable directories\n",
    "SOURCE_DIR = Path('..')\n",
    "DATA_DIR = SOURCE_DIR / 'data'"
   ]
  },
  {
   "cell_type": "code",
   "execution_count": 4,
   "metadata": {},
   "outputs": [
    {
     "data": {
      "text/plain": [
       "array(['train', 'val', 'test'], dtype=object)"
      ]
     },
     "execution_count": 4,
     "metadata": {},
     "output_type": "execute_result"
    }
   ],
   "source": [
    "# load data\n",
    "df = pd.read_csv(DATA_DIR / 'surnames_with_splits.csv')\n",
    "df.split.unique()"
   ]
  },
  {
   "cell_type": "code",
   "execution_count": 5,
   "metadata": {},
   "outputs": [],
   "source": [
    "from torch import nn\n",
    "\n",
    "from surnames.training import Trainer\n",
    "from surnames.utils import handle_dirs\n",
    "from surnames.models import SurnameClassifier\n",
    "\n",
    "# create dataset\n",
    "dataset = SurnameClassificationDataset.from_dataframe(df)\n",
    "dataset.set_split('train')\n",
    "\n",
    "# grab vectorizer\n",
    "vectorizer = dataset.surname_vectorizer\n",
    "\n",
    "# model\n",
    "surname_classifier = SurnameClassifier(\n",
    "    char_embedding_dim=100, \n",
    "    char_vocab_size=len(vectorizer.surname_vocab),\n",
    "    rnn_hidden_size=50, # this represents the entire sequence\n",
    "    nb_categories=len(vectorizer.origin_vocab),\n",
    "    padding_idx=vectorizer.surname_vocab.mask_index\n",
    ")\n",
    "\n",
    "loss_func = nn.CrossEntropyLoss()\n",
    "optimizer = torch.optim.Adam(surname_classifier.parameters(), lr=0.001)\n",
    "MODELS_DIR = SOURCE_DIR / 'models'\n",
    "MODEL_DIR = MODELS_DIR / 'SurnameClassifier'\n",
    "handle_dirs(MODELS_DIR)\n",
    "handle_dirs(MODEL_DIR)\n",
    "device = \"cude\" if torch.cuda.is_available() else \"cpu\"\n",
    "\n",
    "trainer = Trainer(generate_batches, optimizer, surname_classifier, MODEL_DIR, loss_func, device)\n",
    "\n",
    "# training params\n",
    "nb_epochs = 20\n",
    "batch_size = 64\n",
    "trainer.run(nb_epochs, dataset, batch_size, checkpoint=True)"
   ]
  },
  {
   "cell_type": "code",
   "execution_count": 6,
   "metadata": {},
   "outputs": [
    {
     "ename": "NameError",
     "evalue": "name 'model' is not defined",
     "output_type": "error",
     "traceback": [
      "\u001b[0;31m---------------------------------------------------------------------------\u001b[0m",
      "\u001b[0;31mNameError\u001b[0m                                 Traceback (most recent call last)",
      "\u001b[0;32m<ipython-input-6-f84f811ed92a>\u001b[0m in \u001b[0;36m<module>\u001b[0;34m\u001b[0m\n\u001b[1;32m      1\u001b[0m \u001b[0mloss_func\u001b[0m \u001b[0;34m=\u001b[0m \u001b[0mnn\u001b[0m\u001b[0;34m.\u001b[0m\u001b[0mCrossEntropyLoss\u001b[0m\u001b[0;34m(\u001b[0m\u001b[0;34m)\u001b[0m\u001b[0;34m\u001b[0m\u001b[0;34m\u001b[0m\u001b[0m\n\u001b[0;32m----> 2\u001b[0;31m \u001b[0moptimizer\u001b[0m \u001b[0;34m=\u001b[0m \u001b[0mtorch\u001b[0m\u001b[0;34m.\u001b[0m\u001b[0moptim\u001b[0m\u001b[0;34m.\u001b[0m\u001b[0mAdam\u001b[0m\u001b[0;34m(\u001b[0m\u001b[0mmodel\u001b[0m\u001b[0;34m.\u001b[0m\u001b[0mparameters\u001b[0m\u001b[0;34m(\u001b[0m\u001b[0;34m)\u001b[0m\u001b[0;34m,\u001b[0m \u001b[0mlr\u001b[0m\u001b[0;34m=\u001b[0m\u001b[0;36m0.0005\u001b[0m\u001b[0;34m)\u001b[0m\u001b[0;34m\u001b[0m\u001b[0;34m\u001b[0m\u001b[0m\n\u001b[0m\u001b[1;32m      3\u001b[0m \u001b[0mMODELS_DIR\u001b[0m \u001b[0;34m=\u001b[0m \u001b[0mSOURCE_DIR\u001b[0m \u001b[0;34m/\u001b[0m \u001b[0;34m'models'\u001b[0m\u001b[0;34m\u001b[0m\u001b[0;34m\u001b[0m\u001b[0m\n\u001b[1;32m      4\u001b[0m \u001b[0mMODEL_DIR\u001b[0m \u001b[0;34m=\u001b[0m \u001b[0mMODELS_DIR\u001b[0m \u001b[0;34m/\u001b[0m \u001b[0;34m'special4'\u001b[0m\u001b[0;34m\u001b[0m\u001b[0;34m\u001b[0m\u001b[0m\n\u001b[1;32m      5\u001b[0m \u001b[0mhandle_dirs\u001b[0m\u001b[0;34m(\u001b[0m\u001b[0mMODELS_DIR\u001b[0m\u001b[0;34m)\u001b[0m\u001b[0;34m\u001b[0m\u001b[0;34m\u001b[0m\u001b[0m\n",
      "\u001b[0;31mNameError\u001b[0m: name 'model' is not defined"
     ]
    }
   ],
   "source": [
    "loss_func = nn.CrossEntropyLoss()\n",
    "optimizer = torch.optim.Adam(model.parameters(), lr=0.0005)\n",
    "MODELS_DIR = SOURCE_DIR / 'models'\n",
    "MODEL_DIR = MODELS_DIR / 'special4'\n",
    "handle_dirs(MODELS_DIR)\n",
    "handle_dirs(MODEL_DIR)\n",
    "device = \"cude\" if torch.cuda.is_available() else \"cpu\"\n",
    "\n",
    "# training params\n",
    "trainer = Trainer(generate_batches, optimizer, model, MODEL_DIR, loss_func, device)\n",
    "trainer.run(30, dataset, 32, checkpoint=True, verbose=True)"
   ]
  },
  {
   "cell_type": "code",
   "execution_count": null,
   "metadata": {},
   "outputs": [],
   "source": [
    "def compute_batch_accuracy(y_pred, y_true):\n",
    "    correct = (y_pred.eq(y_true)).sum()\n",
    "    return correct.item() / y_pred.shape[0]\n",
    "\n",
    "def inference(surname, vectorizer, model):\n",
    "    vector = vectorizer.vectorize_surname(surname, max_len=10)\n",
    "    tensor = torch.tensor(vector).unsqueeze(0)\n",
    "    out = model(tensor).squeeze()\n",
    "    cat_index = torch.argmax(out)\n",
    "    return vectorizer.origin_vocab.lookup_index(cat_index)\n",
    "\n",
    "def test(dataset, model):\n",
    "    dataset.set_split('test')\n",
    "    accuracy = 0\n",
    "    nb_bacthes = 0\n",
    "    for batch_gen in generate_batches(dataset, batch_size=batch_size):\n",
    "        x_test = batch_gen['x_data']\n",
    "        y_true = batch_gen['y_target']\n",
    "        y_pred = model(x_test)\n",
    "        categories = torch.argmax(y_pred, dim=1)\n",
    "        accuracy += compute_batch_accuracy(categories, y_true)\n",
    "        nb_bacthes += 1\n",
    "    accuracy /= nb_bacthes\n",
    "    accuracy_str = f'{accuracy:.2%}'\n",
    "    print(accuracy_str)\n",
    "\n",
    "test(dataset, model)"
   ]
  },
  {
   "cell_type": "code",
   "execution_count": null,
   "metadata": {},
   "outputs": [],
   "source": [
    "lst = [\n",
    "    'Biden', \n",
    "    'Merkel', \n",
    "    'Johnson', \n",
    "    'Trudeau', \n",
    "    'Jinping', \n",
    "    'Putin', \n",
    "    'Modi', \n",
    "    'Gautier', \n",
    "    'Macron', \n",
    "    'De Croo', \n",
    "    'Rutte',\n",
    "    'Sanchez']\n",
    "for name in lst:\n",
    "    prediction = inference(name, dataset.surname_vectorizer, surname_classifier)\n",
    "    print(f'{name} -> {prediction}')"
   ]
  },
  {
   "cell_type": "code",
   "execution_count": null,
   "metadata": {},
   "outputs": [],
   "source": [
    "inference('Trudeau', dataset.surname_vectorizer, surname_classifier)"
   ]
  },
  {
   "cell_type": "code",
   "execution_count": null,
   "metadata": {},
   "outputs": [],
   "source": []
  }
 ],
 "metadata": {
  "kernelspec": {
   "display_name": "Python [conda env:pDL] *",
   "language": "python",
   "name": "conda-env-pDL-py"
  },
  "language_info": {
   "codemirror_mode": {
    "name": "ipython",
    "version": 3
   },
   "file_extension": ".py",
   "mimetype": "text/x-python",
   "name": "python",
   "nbconvert_exporter": "python",
   "pygments_lexer": "ipython3",
   "version": "3.8.6"
  }
 },
 "nbformat": 4,
 "nbformat_minor": 4
}
